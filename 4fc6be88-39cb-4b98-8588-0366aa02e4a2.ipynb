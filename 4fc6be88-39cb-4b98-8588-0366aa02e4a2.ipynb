{
 "cells": [
  {
   "cell_type": "markdown",
   "metadata": {},
   "source": [
    "---"
   ]
  },
  {
   "cell_type": "markdown",
   "metadata": {},
   "source": [
    "<h3 style=\"text-align: center;\">Analyzing User Interaction and Conversion in A/A/B Test for Font Implementation in an Online Application</h3>"
   ]
  },
  {
   "cell_type": "markdown",
   "metadata": {},
   "source": [
    "### 1. Introduction\n",
    "\n",
    "This project aims to analyze user interactions and their journey through the application's sales funnel. We begin by studying the funnel to understand how users progress towards making a purchase, identifying stages where users may drop off.\n",
    "\n",
    "Additionally, we delve into the results of an A/A/B test to give useful information for the implementation changes to the application's fonts. \n",
    "\n",
    "The experiment divides users into three groups: two control groups using the old fonts and one test group using the new fonts.\n",
    "\n",
    "We analyze user engagement metrics, identify popular events, and calculate user progression through the sales funnel.\n",
    "\n",
    "Furthermore, we conduct hypothesis tests to compare user behavior between control groups (246 and 247) and evaluate if the groups were correctly divided. We extend this analysis to include the experimental group (248) and compare its performance against the control groups.\n",
    "\n",
    "ES:\n",
    "\n",
    "Este proyecto tiene como objetivo analizar las interacciones de los usuarios y su recorrido a través del proceso de venta de la aplicación. Se inicia estudiando el embudo para entender cómo los usuarios avanzan hacia la realización de una compra, identificando las etapas donde los usuarios pueden abandonar el proceso.\n",
    "\n",
    "Además, profundizamos en los resultados de una prueba A/A/B para obtener información útil sobre la implementación de cambios en las fuentes de la aplicación.\n",
    "\n",
    "El experimento divide a los usuarios en tres grupos: dos grupos de control que utilizan las fuentes antiguas y un grupo de prueba que utiliza las fuentes nuevas. Por lo que la pretensión es determinar qué conjunto de fuentes produce mejores resultados.\n",
    "\n",
    "Se analizaron las métricas de participación de los usuarios, se identificaron los eventos populares y se calculó la progresión de los usuarios a través del embudo de ventas.\n",
    "\n",
    "Además, se realizaron pruebas de hipótesis para comparar el comportamiento de los usuarios entre los grupos de control (246 y 247) y se evaluaron si los grupos se dividieron correctamente. Finalmente se extendió el análisis para incluir al grupo experimental (248) y comparamos su rendimiento con los grupos de control."
   ]
  },
  {
   "cell_type": "markdown",
   "metadata": {},
   "source": [
    "### 2. Loading datasets and importing libraries"
   ]
  },
  {
   "cell_type": "code",
   "execution_count": 63,
   "metadata": {},
   "outputs": [],
   "source": [
    "# Import the libraries / #Se importan las librerías\n",
    "import pandas as pd\n",
    "import scipy.stats as stats\n",
    "from scipy.stats import ttest_ind\n",
    "from scipy.stats import levene\n",
    "import datetime as dt\n",
    "import numpy as np\n",
    "from matplotlib import pyplot as plt\n",
    "import seaborn as sb\n",
    "import math as mth\n",
    "from scipy.stats import mannwhitneyu"
   ]
  },
  {
   "cell_type": "code",
   "execution_count": 33,
   "metadata": {},
   "outputs": [
    {
     "data": {
      "text/html": [
       "<div>\n",
       "<style scoped>\n",
       "    .dataframe tbody tr th:only-of-type {\n",
       "        vertical-align: middle;\n",
       "    }\n",
       "\n",
       "    .dataframe tbody tr th {\n",
       "        vertical-align: top;\n",
       "    }\n",
       "\n",
       "    .dataframe thead th {\n",
       "        text-align: right;\n",
       "    }\n",
       "</style>\n",
       "<table border=\"1\" class=\"dataframe\">\n",
       "  <thead>\n",
       "    <tr style=\"text-align: right;\">\n",
       "      <th></th>\n",
       "      <th>EventName</th>\n",
       "      <th>DeviceIDHash</th>\n",
       "      <th>EventTimestamp</th>\n",
       "      <th>ExpId</th>\n",
       "    </tr>\n",
       "  </thead>\n",
       "  <tbody>\n",
       "    <tr>\n",
       "      <th>0</th>\n",
       "      <td>MainScreenAppear</td>\n",
       "      <td>4575588528974610257</td>\n",
       "      <td>1564029816</td>\n",
       "      <td>246</td>\n",
       "    </tr>\n",
       "    <tr>\n",
       "      <th>1</th>\n",
       "      <td>MainScreenAppear</td>\n",
       "      <td>7416695313311560658</td>\n",
       "      <td>1564053102</td>\n",
       "      <td>246</td>\n",
       "    </tr>\n",
       "    <tr>\n",
       "      <th>2</th>\n",
       "      <td>PaymentScreenSuccessful</td>\n",
       "      <td>3518123091307005509</td>\n",
       "      <td>1564054127</td>\n",
       "      <td>248</td>\n",
       "    </tr>\n",
       "    <tr>\n",
       "      <th>3</th>\n",
       "      <td>CartScreenAppear</td>\n",
       "      <td>3518123091307005509</td>\n",
       "      <td>1564054127</td>\n",
       "      <td>248</td>\n",
       "    </tr>\n",
       "    <tr>\n",
       "      <th>4</th>\n",
       "      <td>PaymentScreenSuccessful</td>\n",
       "      <td>6217807653094995999</td>\n",
       "      <td>1564055322</td>\n",
       "      <td>248</td>\n",
       "    </tr>\n",
       "    <tr>\n",
       "      <th>...</th>\n",
       "      <td>...</td>\n",
       "      <td>...</td>\n",
       "      <td>...</td>\n",
       "      <td>...</td>\n",
       "    </tr>\n",
       "    <tr>\n",
       "      <th>244121</th>\n",
       "      <td>MainScreenAppear</td>\n",
       "      <td>4599628364049201812</td>\n",
       "      <td>1565212345</td>\n",
       "      <td>247</td>\n",
       "    </tr>\n",
       "    <tr>\n",
       "      <th>244122</th>\n",
       "      <td>MainScreenAppear</td>\n",
       "      <td>5849806612437486590</td>\n",
       "      <td>1565212439</td>\n",
       "      <td>246</td>\n",
       "    </tr>\n",
       "    <tr>\n",
       "      <th>244123</th>\n",
       "      <td>MainScreenAppear</td>\n",
       "      <td>5746969938801999050</td>\n",
       "      <td>1565212483</td>\n",
       "      <td>246</td>\n",
       "    </tr>\n",
       "    <tr>\n",
       "      <th>244124</th>\n",
       "      <td>MainScreenAppear</td>\n",
       "      <td>5746969938801999050</td>\n",
       "      <td>1565212498</td>\n",
       "      <td>246</td>\n",
       "    </tr>\n",
       "    <tr>\n",
       "      <th>244125</th>\n",
       "      <td>OffersScreenAppear</td>\n",
       "      <td>5746969938801999050</td>\n",
       "      <td>1565212517</td>\n",
       "      <td>246</td>\n",
       "    </tr>\n",
       "  </tbody>\n",
       "</table>\n",
       "<p>244126 rows × 4 columns</p>\n",
       "</div>"
      ],
      "text/plain": [
       "                      EventName         DeviceIDHash  EventTimestamp  ExpId\n",
       "0              MainScreenAppear  4575588528974610257      1564029816    246\n",
       "1              MainScreenAppear  7416695313311560658      1564053102    246\n",
       "2       PaymentScreenSuccessful  3518123091307005509      1564054127    248\n",
       "3              CartScreenAppear  3518123091307005509      1564054127    248\n",
       "4       PaymentScreenSuccessful  6217807653094995999      1564055322    248\n",
       "...                         ...                  ...             ...    ...\n",
       "244121         MainScreenAppear  4599628364049201812      1565212345    247\n",
       "244122         MainScreenAppear  5849806612437486590      1565212439    246\n",
       "244123         MainScreenAppear  5746969938801999050      1565212483    246\n",
       "244124         MainScreenAppear  5746969938801999050      1565212498    246\n",
       "244125       OffersScreenAppear  5746969938801999050      1565212517    246\n",
       "\n",
       "[244126 rows x 4 columns]"
      ]
     },
     "execution_count": 33,
     "metadata": {},
     "output_type": "execute_result"
    }
   ],
   "source": [
    "# Load and print the database\n",
    "df = pd.read_csv(\"/datasets/logs_exp_us.csv\", sep=\"\\t\")\n",
    "df"
   ]
  },
  {
   "cell_type": "markdown",
   "metadata": {},
   "source": [
    "### 3. Data Exploration"
   ]
  },
  {
   "cell_type": "code",
   "execution_count": 34,
   "metadata": {},
   "outputs": [
    {
     "name": "stdout",
     "output_type": "stream",
     "text": [
      "<class 'pandas.core.frame.DataFrame'>\n",
      "RangeIndex: 244126 entries, 0 to 244125\n",
      "Data columns (total 4 columns):\n",
      " #   Column          Non-Null Count   Dtype \n",
      "---  ------          --------------   ----- \n",
      " 0   EventName       244126 non-null  object\n",
      " 1   DeviceIDHash    244126 non-null  int64 \n",
      " 2   EventTimestamp  244126 non-null  int64 \n",
      " 3   ExpId           244126 non-null  int64 \n",
      "dtypes: int64(3), object(1)\n",
      "memory usage: 7.5+ MB\n"
     ]
    }
   ],
   "source": [
    "#display information about the data\n",
    "df.info()"
   ]
  },
  {
   "cell_type": "code",
   "execution_count": 35,
   "metadata": {},
   "outputs": [
    {
     "data": {
      "text/html": [
       "<div>\n",
       "<style scoped>\n",
       "    .dataframe tbody tr th:only-of-type {\n",
       "        vertical-align: middle;\n",
       "    }\n",
       "\n",
       "    .dataframe tbody tr th {\n",
       "        vertical-align: top;\n",
       "    }\n",
       "\n",
       "    .dataframe thead th {\n",
       "        text-align: right;\n",
       "    }\n",
       "</style>\n",
       "<table border=\"1\" class=\"dataframe\">\n",
       "  <thead>\n",
       "    <tr style=\"text-align: right;\">\n",
       "      <th></th>\n",
       "      <th>EventName</th>\n",
       "      <th>DeviceIDHash</th>\n",
       "      <th>EventTimestamp</th>\n",
       "      <th>ExpId</th>\n",
       "    </tr>\n",
       "  </thead>\n",
       "  <tbody>\n",
       "    <tr>\n",
       "      <th>0</th>\n",
       "      <td>MainScreenAppear</td>\n",
       "      <td>4575588528974610257</td>\n",
       "      <td>1564029816</td>\n",
       "      <td>246</td>\n",
       "    </tr>\n",
       "    <tr>\n",
       "      <th>4583</th>\n",
       "      <td>MainScreenAppear</td>\n",
       "      <td>4575588528974610257</td>\n",
       "      <td>1564633800</td>\n",
       "      <td>246</td>\n",
       "    </tr>\n",
       "    <tr>\n",
       "      <th>108616</th>\n",
       "      <td>MainScreenAppear</td>\n",
       "      <td>4575588528974610257</td>\n",
       "      <td>1564888031</td>\n",
       "      <td>246</td>\n",
       "    </tr>\n",
       "    <tr>\n",
       "      <th>108618</th>\n",
       "      <td>OffersScreenAppear</td>\n",
       "      <td>4575588528974610257</td>\n",
       "      <td>1564888070</td>\n",
       "      <td>246</td>\n",
       "    </tr>\n",
       "    <tr>\n",
       "      <th>108621</th>\n",
       "      <td>MainScreenAppear</td>\n",
       "      <td>4575588528974610257</td>\n",
       "      <td>1564888143</td>\n",
       "      <td>246</td>\n",
       "    </tr>\n",
       "    <tr>\n",
       "      <th>108623</th>\n",
       "      <td>MainScreenAppear</td>\n",
       "      <td>4575588528974610257</td>\n",
       "      <td>1564888203</td>\n",
       "      <td>246</td>\n",
       "    </tr>\n",
       "    <tr>\n",
       "      <th>108627</th>\n",
       "      <td>MainScreenAppear</td>\n",
       "      <td>4575588528974610257</td>\n",
       "      <td>1564888262</td>\n",
       "      <td>246</td>\n",
       "    </tr>\n",
       "    <tr>\n",
       "      <th>108628</th>\n",
       "      <td>MainScreenAppear</td>\n",
       "      <td>4575588528974610257</td>\n",
       "      <td>1564888306</td>\n",
       "      <td>246</td>\n",
       "    </tr>\n",
       "    <tr>\n",
       "      <th>111291</th>\n",
       "      <td>MainScreenAppear</td>\n",
       "      <td>4575588528974610257</td>\n",
       "      <td>1564899761</td>\n",
       "      <td>246</td>\n",
       "    </tr>\n",
       "    <tr>\n",
       "      <th>111948</th>\n",
       "      <td>MainScreenAppear</td>\n",
       "      <td>4575588528974610257</td>\n",
       "      <td>1564901643</td>\n",
       "      <td>246</td>\n",
       "    </tr>\n",
       "    <tr>\n",
       "      <th>112180</th>\n",
       "      <td>MainScreenAppear</td>\n",
       "      <td>4575588528974610257</td>\n",
       "      <td>1564902066</td>\n",
       "      <td>246</td>\n",
       "    </tr>\n",
       "    <tr>\n",
       "      <th>112181</th>\n",
       "      <td>CartScreenAppear</td>\n",
       "      <td>4575588528974610257</td>\n",
       "      <td>1564902068</td>\n",
       "      <td>246</td>\n",
       "    </tr>\n",
       "    <tr>\n",
       "      <th>112182</th>\n",
       "      <td>PaymentScreenSuccessful</td>\n",
       "      <td>4575588528974610257</td>\n",
       "      <td>1564902068</td>\n",
       "      <td>246</td>\n",
       "    </tr>\n",
       "    <tr>\n",
       "      <th>112183</th>\n",
       "      <td>MainScreenAppear</td>\n",
       "      <td>4575588528974610257</td>\n",
       "      <td>1564902068</td>\n",
       "      <td>246</td>\n",
       "    </tr>\n",
       "    <tr>\n",
       "      <th>112186</th>\n",
       "      <td>OffersScreenAppear</td>\n",
       "      <td>4575588528974610257</td>\n",
       "      <td>1564902071</td>\n",
       "      <td>246</td>\n",
       "    </tr>\n",
       "    <tr>\n",
       "      <th>112217</th>\n",
       "      <td>CartScreenAppear</td>\n",
       "      <td>4575588528974610257</td>\n",
       "      <td>1564902111</td>\n",
       "      <td>246</td>\n",
       "    </tr>\n",
       "    <tr>\n",
       "      <th>112218</th>\n",
       "      <td>PaymentScreenSuccessful</td>\n",
       "      <td>4575588528974610257</td>\n",
       "      <td>1564902111</td>\n",
       "      <td>246</td>\n",
       "    </tr>\n",
       "    <tr>\n",
       "      <th>115315</th>\n",
       "      <td>MainScreenAppear</td>\n",
       "      <td>4575588528974610257</td>\n",
       "      <td>1564908674</td>\n",
       "      <td>246</td>\n",
       "    </tr>\n",
       "    <tr>\n",
       "      <th>127614</th>\n",
       "      <td>MainScreenAppear</td>\n",
       "      <td>4575588528974610257</td>\n",
       "      <td>1564928232</td>\n",
       "      <td>246</td>\n",
       "    </tr>\n",
       "    <tr>\n",
       "      <th>127615</th>\n",
       "      <td>OffersScreenAppear</td>\n",
       "      <td>4575588528974610257</td>\n",
       "      <td>1564928236</td>\n",
       "      <td>246</td>\n",
       "    </tr>\n",
       "    <tr>\n",
       "      <th>127642</th>\n",
       "      <td>OffersScreenAppear</td>\n",
       "      <td>4575588528974610257</td>\n",
       "      <td>1564928304</td>\n",
       "      <td>246</td>\n",
       "    </tr>\n",
       "    <tr>\n",
       "      <th>156054</th>\n",
       "      <td>MainScreenAppear</td>\n",
       "      <td>4575588528974610257</td>\n",
       "      <td>1565006622</td>\n",
       "      <td>246</td>\n",
       "    </tr>\n",
       "    <tr>\n",
       "      <th>156181</th>\n",
       "      <td>OffersScreenAppear</td>\n",
       "      <td>4575588528974610257</td>\n",
       "      <td>1565006784</td>\n",
       "      <td>246</td>\n",
       "    </tr>\n",
       "  </tbody>\n",
       "</table>\n",
       "</div>"
      ],
      "text/plain": [
       "                      EventName         DeviceIDHash  EventTimestamp  ExpId\n",
       "0              MainScreenAppear  4575588528974610257      1564029816    246\n",
       "4583           MainScreenAppear  4575588528974610257      1564633800    246\n",
       "108616         MainScreenAppear  4575588528974610257      1564888031    246\n",
       "108618       OffersScreenAppear  4575588528974610257      1564888070    246\n",
       "108621         MainScreenAppear  4575588528974610257      1564888143    246\n",
       "108623         MainScreenAppear  4575588528974610257      1564888203    246\n",
       "108627         MainScreenAppear  4575588528974610257      1564888262    246\n",
       "108628         MainScreenAppear  4575588528974610257      1564888306    246\n",
       "111291         MainScreenAppear  4575588528974610257      1564899761    246\n",
       "111948         MainScreenAppear  4575588528974610257      1564901643    246\n",
       "112180         MainScreenAppear  4575588528974610257      1564902066    246\n",
       "112181         CartScreenAppear  4575588528974610257      1564902068    246\n",
       "112182  PaymentScreenSuccessful  4575588528974610257      1564902068    246\n",
       "112183         MainScreenAppear  4575588528974610257      1564902068    246\n",
       "112186       OffersScreenAppear  4575588528974610257      1564902071    246\n",
       "112217         CartScreenAppear  4575588528974610257      1564902111    246\n",
       "112218  PaymentScreenSuccessful  4575588528974610257      1564902111    246\n",
       "115315         MainScreenAppear  4575588528974610257      1564908674    246\n",
       "127614         MainScreenAppear  4575588528974610257      1564928232    246\n",
       "127615       OffersScreenAppear  4575588528974610257      1564928236    246\n",
       "127642       OffersScreenAppear  4575588528974610257      1564928304    246\n",
       "156054         MainScreenAppear  4575588528974610257      1565006622    246\n",
       "156181       OffersScreenAppear  4575588528974610257      1565006784    246"
      ]
     },
     "execution_count": 35,
     "metadata": {},
     "output_type": "execute_result"
    }
   ],
   "source": [
    "#Checking if there are duplicated information\n",
    "\n",
    "duplicated_rows = df[df.duplicated(subset=['EventName', 'DeviceIDHash'], keep=False)]\n",
    "duplicated_rows_filter = duplicated_rows[duplicated_rows['DeviceIDHash'] == 4575588528974610257]\n",
    "duplicated_rows_filter\n",
    "#print(f'The df dataframe has {duplicate_count} duplicate values')"
   ]
  },
  {
   "cell_type": "code",
   "execution_count": 36,
   "metadata": {},
   "outputs": [
    {
     "name": "stdout",
     "output_type": "stream",
     "text": [
      "EventName         0\n",
      "DeviceIDHash      0\n",
      "EventTimestamp    0\n",
      "ExpId             0\n",
      "dtype: int64\n"
     ]
    }
   ],
   "source": [
    "#Checking if there are missing values\n",
    "print(df.isnull().sum())"
   ]
  },
  {
   "cell_type": "markdown",
   "metadata": {},
   "source": [
    "**Coments:**\n",
    "\n",
    "* The name of the column 'DeviceIDHash' will be replaced with 'UserId', 'EventTimestamp' with 'DateTime', and 'Expld' with 'GroupNumber'. / El nombre de la columna 'DeviceIDHash' se cambiará a 'UserId', 'EventTimestamp' a 'DateTime', y 'Expld' a 'GroupNumber'.\n",
    "\n",
    "* The data type of 'EventTimestamp' will be changed from int64 to datetime, as it will be necessary for working with the data. / El tipo de dato de 'EventTimestamp' se cambiará de int64 a datetime, ya que será necesario para trabajar con los datos.\n",
    "\n",
    "* Regarding duplicates: It's normal to have duplicates because a user might perform the same activity on different dates or even on the same date, resulting in multiple duplicates across all columns. / Con respecto a los duplicados: Es normal tener duplicados porque un usuario puede realizar la misma actividad en diferentes fechas o incluso en la misma fecha, lo que resulta en múltiples duplicados en todas las columnas.\n",
    "\n",
    "* There are no missing values in the dataset. / No hay valores faltantes en el conjunto de datos.\n",
    "\n",
    "ES: \n",
    "\n",
    "* El nombre de la columna 'DeviceIDHash' se cambiará a 'UserId', 'EventTimestamp' a 'DateTime', y 'Expld' a 'GroupNumber'.\n",
    "\n",
    "* El tipo de dato de 'EventTimestamp' se cambiará de int64 a datetime, ya que será necesario para trabajar con los datos.\n",
    "\n",
    "* Con respecto a los duplicados: Es normal tener duplicados porque un usuario puede realizar la misma actividad en diferentes fechas o incluso en la misma fecha, lo que resulta en múltiples duplicados en todas las columnas.\n",
    "\n",
    "* No hay valores faltantes en el conjunto de datos."
   ]
  },
  {
   "cell_type": "code",
   "execution_count": 37,
   "metadata": {},
   "outputs": [],
   "source": [
    "#Renaming columns\n",
    "df = df.rename(columns={\n",
    "    'DeviceIDHash': 'UserId', \n",
    "    'EventTimestamp': 'DateTime', \n",
    "    'Expld': 'GroupNumber'\n",
    "})"
   ]
  },
  {
   "cell_type": "code",
   "execution_count": 38,
   "metadata": {},
   "outputs": [],
   "source": [
    "#Converting the data of DateTime column to DateTime\n",
    "df['DateTime'] = pd.to_datetime(df['DateTime'], unit='s')"
   ]
  },
  {
   "cell_type": "code",
   "execution_count": 39,
   "metadata": {},
   "outputs": [
    {
     "data": {
      "text/html": [
       "<div>\n",
       "<style scoped>\n",
       "    .dataframe tbody tr th:only-of-type {\n",
       "        vertical-align: middle;\n",
       "    }\n",
       "\n",
       "    .dataframe tbody tr th {\n",
       "        vertical-align: top;\n",
       "    }\n",
       "\n",
       "    .dataframe thead th {\n",
       "        text-align: right;\n",
       "    }\n",
       "</style>\n",
       "<table border=\"1\" class=\"dataframe\">\n",
       "  <thead>\n",
       "    <tr style=\"text-align: right;\">\n",
       "      <th></th>\n",
       "      <th>EventName</th>\n",
       "      <th>UserId</th>\n",
       "      <th>DateTime</th>\n",
       "      <th>ExpId</th>\n",
       "      <th>Date</th>\n",
       "    </tr>\n",
       "  </thead>\n",
       "  <tbody>\n",
       "    <tr>\n",
       "      <th>0</th>\n",
       "      <td>MainScreenAppear</td>\n",
       "      <td>4575588528974610257</td>\n",
       "      <td>2019-07-25 04:43:36</td>\n",
       "      <td>246</td>\n",
       "      <td>2019-07-25</td>\n",
       "    </tr>\n",
       "    <tr>\n",
       "      <th>1</th>\n",
       "      <td>MainScreenAppear</td>\n",
       "      <td>7416695313311560658</td>\n",
       "      <td>2019-07-25 11:11:42</td>\n",
       "      <td>246</td>\n",
       "      <td>2019-07-25</td>\n",
       "    </tr>\n",
       "    <tr>\n",
       "      <th>2</th>\n",
       "      <td>PaymentScreenSuccessful</td>\n",
       "      <td>3518123091307005509</td>\n",
       "      <td>2019-07-25 11:28:47</td>\n",
       "      <td>248</td>\n",
       "      <td>2019-07-25</td>\n",
       "    </tr>\n",
       "    <tr>\n",
       "      <th>3</th>\n",
       "      <td>CartScreenAppear</td>\n",
       "      <td>3518123091307005509</td>\n",
       "      <td>2019-07-25 11:28:47</td>\n",
       "      <td>248</td>\n",
       "      <td>2019-07-25</td>\n",
       "    </tr>\n",
       "    <tr>\n",
       "      <th>4</th>\n",
       "      <td>PaymentScreenSuccessful</td>\n",
       "      <td>6217807653094995999</td>\n",
       "      <td>2019-07-25 11:48:42</td>\n",
       "      <td>248</td>\n",
       "      <td>2019-07-25</td>\n",
       "    </tr>\n",
       "    <tr>\n",
       "      <th>...</th>\n",
       "      <td>...</td>\n",
       "      <td>...</td>\n",
       "      <td>...</td>\n",
       "      <td>...</td>\n",
       "      <td>...</td>\n",
       "    </tr>\n",
       "    <tr>\n",
       "      <th>244121</th>\n",
       "      <td>MainScreenAppear</td>\n",
       "      <td>4599628364049201812</td>\n",
       "      <td>2019-08-07 21:12:25</td>\n",
       "      <td>247</td>\n",
       "      <td>2019-08-07</td>\n",
       "    </tr>\n",
       "    <tr>\n",
       "      <th>244122</th>\n",
       "      <td>MainScreenAppear</td>\n",
       "      <td>5849806612437486590</td>\n",
       "      <td>2019-08-07 21:13:59</td>\n",
       "      <td>246</td>\n",
       "      <td>2019-08-07</td>\n",
       "    </tr>\n",
       "    <tr>\n",
       "      <th>244123</th>\n",
       "      <td>MainScreenAppear</td>\n",
       "      <td>5746969938801999050</td>\n",
       "      <td>2019-08-07 21:14:43</td>\n",
       "      <td>246</td>\n",
       "      <td>2019-08-07</td>\n",
       "    </tr>\n",
       "    <tr>\n",
       "      <th>244124</th>\n",
       "      <td>MainScreenAppear</td>\n",
       "      <td>5746969938801999050</td>\n",
       "      <td>2019-08-07 21:14:58</td>\n",
       "      <td>246</td>\n",
       "      <td>2019-08-07</td>\n",
       "    </tr>\n",
       "    <tr>\n",
       "      <th>244125</th>\n",
       "      <td>OffersScreenAppear</td>\n",
       "      <td>5746969938801999050</td>\n",
       "      <td>2019-08-07 21:15:17</td>\n",
       "      <td>246</td>\n",
       "      <td>2019-08-07</td>\n",
       "    </tr>\n",
       "  </tbody>\n",
       "</table>\n",
       "<p>244126 rows × 5 columns</p>\n",
       "</div>"
      ],
      "text/plain": [
       "                      EventName               UserId            DateTime  \\\n",
       "0              MainScreenAppear  4575588528974610257 2019-07-25 04:43:36   \n",
       "1              MainScreenAppear  7416695313311560658 2019-07-25 11:11:42   \n",
       "2       PaymentScreenSuccessful  3518123091307005509 2019-07-25 11:28:47   \n",
       "3              CartScreenAppear  3518123091307005509 2019-07-25 11:28:47   \n",
       "4       PaymentScreenSuccessful  6217807653094995999 2019-07-25 11:48:42   \n",
       "...                         ...                  ...                 ...   \n",
       "244121         MainScreenAppear  4599628364049201812 2019-08-07 21:12:25   \n",
       "244122         MainScreenAppear  5849806612437486590 2019-08-07 21:13:59   \n",
       "244123         MainScreenAppear  5746969938801999050 2019-08-07 21:14:43   \n",
       "244124         MainScreenAppear  5746969938801999050 2019-08-07 21:14:58   \n",
       "244125       OffersScreenAppear  5746969938801999050 2019-08-07 21:15:17   \n",
       "\n",
       "        ExpId       Date  \n",
       "0         246 2019-07-25  \n",
       "1         246 2019-07-25  \n",
       "2         248 2019-07-25  \n",
       "3         248 2019-07-25  \n",
       "4         248 2019-07-25  \n",
       "...       ...        ...  \n",
       "244121    247 2019-08-07  \n",
       "244122    246 2019-08-07  \n",
       "244123    246 2019-08-07  \n",
       "244124    246 2019-08-07  \n",
       "244125    246 2019-08-07  \n",
       "\n",
       "[244126 rows x 5 columns]"
      ]
     },
     "execution_count": 39,
     "metadata": {},
     "output_type": "execute_result"
    }
   ],
   "source": [
    "#Converting the data of DateTime column to DateTime\n",
    "\n",
    "df['Date'] = pd.to_datetime(df['DateTime'].dt.strftime('%Y-%m-%d'))\n",
    "df"
   ]
  },
  {
   "cell_type": "code",
   "execution_count": 40,
   "metadata": {},
   "outputs": [
    {
     "name": "stdout",
     "output_type": "stream",
     "text": [
      "<class 'pandas.core.frame.DataFrame'>\n",
      "RangeIndex: 244126 entries, 0 to 244125\n",
      "Data columns (total 5 columns):\n",
      " #   Column     Non-Null Count   Dtype         \n",
      "---  ------     --------------   -----         \n",
      " 0   EventName  244126 non-null  object        \n",
      " 1   UserId     244126 non-null  int64         \n",
      " 2   DateTime   244126 non-null  datetime64[ns]\n",
      " 3   ExpId      244126 non-null  int64         \n",
      " 4   Date       244126 non-null  datetime64[ns]\n",
      "dtypes: datetime64[ns](2), int64(2), object(1)\n",
      "memory usage: 9.3+ MB\n"
     ]
    }
   ],
   "source": [
    "df.info()"
   ]
  },
  {
   "cell_type": "code",
   "execution_count": 41,
   "metadata": {},
   "outputs": [
    {
     "name": "stdout",
     "output_type": "stream",
     "text": [
      "There are 5 events in the register: ['MainScreenAppear' 'PaymentScreenSuccessful' 'CartScreenAppear'\n",
      " 'OffersScreenAppear' 'Tutorial']\n"
     ]
    }
   ],
   "source": [
    "#counting events\n",
    "events_name = df['EventName'].unique()\n",
    " \n",
    "print(f\"There are {df['EventName'].nunique()} events in the register: {events_name}\")"
   ]
  },
  {
   "cell_type": "code",
   "execution_count": 42,
   "metadata": {},
   "outputs": [
    {
     "name": "stdout",
     "output_type": "stream",
     "text": [
      "there are 7551 users in total, divided by event as follows:\n",
      "\n",
      "EventName\n",
      "CartScreenAppear           3749\n",
      "MainScreenAppear           7439\n",
      "OffersScreenAppear         4613\n",
      "PaymentScreenSuccessful    3547\n",
      "Tutorial                    847\n",
      "Name: UserId, dtype: int64\n"
     ]
    }
   ],
   "source": [
    "#counting number of users \n",
    "\n",
    "users_by_event = df.groupby('EventName')['UserId'].nunique()\n",
    "\n",
    "print(f\"there are {df['UserId'].nunique()} users in total, divided by event as follows:\")\n",
    "print()\n",
    "print(users_by_event)"
   ]
  },
  {
   "cell_type": "markdown",
   "metadata": {},
   "source": [
    "Comment: \n",
    "\n",
    "The number of users per event is higher than the total number of users because one user can be associated with multiple events\n",
    "\n",
    "ES:\n",
    "\n",
    "El numero de usuarios por evento es total que el total de numero de usuarios porque un usuario puede estar asociado con múltiples eventos"
   ]
  },
  {
   "cell_type": "code",
   "execution_count": 43,
   "metadata": {},
   "outputs": [
    {
     "data": {
      "text/plain": [
       "32.33028737915508"
      ]
     },
     "execution_count": 43,
     "metadata": {},
     "output_type": "execute_result"
    }
   ],
   "source": [
    "#Calculating the average of events per user\n",
    "\n",
    "event_per_users_avg = df.groupby('UserId')['EventName'].count().mean()\n",
    "event_per_users_avg"
   ]
  },
  {
   "cell_type": "code",
   "execution_count": 44,
   "metadata": {},
   "outputs": [
    {
     "name": "stdout",
     "output_type": "stream",
     "text": [
      "the minimum date registered is 2019-07-25 04:43:36 and the maximum is 2019-08-07 21:15:17\n"
     ]
    }
   ],
   "source": [
    "#Min and Maximum value fot dates\n",
    "df_min_date = df['DateTime'].min()\n",
    "df_max_date = df['DateTime'].max()\n",
    "\n",
    "print(f'the minimum date registered is {df_min_date} and the maximum is {df_max_date}')"
   ]
  },
  {
   "cell_type": "code",
   "execution_count": 45,
   "metadata": {},
   "outputs": [
    {
     "data": {
      "image/png": "[encoded data removed]",
      "text/plain": [
       "<Figure size 640x480 with 1 Axes>"
      ]
     },
     "metadata": {},
     "output_type": "display_data"
    }
   ],
   "source": [
    "#Graphing a histogram for the distribution of dates\n",
    "sb.histplot(df['DateTime'], bins=50)\n",
    "plt.xticks(rotation=90)\n",
    "plt.title('Histogram for the distribution of dates')\n",
    "plt.show()\n"
   ]
  },
  {
   "cell_type": "markdown",
   "metadata": {},
   "source": [
    "**Comments:** \n",
    "\n",
    "There isn't much information between 2019-07-25 and 2019-07-31, so it was decided to delete this range of time to prevent it from affecting the results.\n",
    "\n",
    "ES: \n",
    "\n",
    "No hay mucha información entre el 25/07/2019 y el 31/07/2019, por lo que se decidió eliminar este rango de tiempo para evitar que afecte los resultados."
   ]
  },
  {
   "cell_type": "code",
   "execution_count": 46,
   "metadata": {},
   "outputs": [],
   "source": [
    "#Creating a dataframe with only the information for june\n",
    "df_august = df[df['DateTime'].dt.month != 7]"
   ]
  },
  {
   "cell_type": "code",
   "execution_count": 47,
   "metadata": {},
   "outputs": [
    {
     "name": "stdout",
     "output_type": "stream",
     "text": [
      "The total of users in the original DataFrame was 7551.\n",
      "The total of users after excluding the month of july is 7534.\n"
     ]
    }
   ],
   "source": [
    "#Calculating the number of users before and after excluding the data from july\n",
    "print(f\"The total of users in the original DataFrame was {df['UserId'].nunique()}.\\nThe total of users after excluding the month of july is {df_august['UserId'].nunique()}.\")"
   ]
  },
  {
   "cell_type": "code",
   "execution_count": 48,
   "metadata": {},
   "outputs": [
    {
     "name": "stdout",
     "output_type": "stream",
     "text": [
      "The total of events in the original DataFrame was 244126.\n",
      "The total of events after excluding the month of july is 241298.\n"
     ]
    }
   ],
   "source": [
    "#Calculating the events before and after excluding the data from july\n",
    "print(f\"The total of events in the original DataFrame was {df['EventName'].count()}.\\nThe total of events after excluding the month of july is {df_august['EventName'].count()}.\")"
   ]
  },
  {
   "cell_type": "markdown",
   "metadata": {},
   "source": [
    "**Comments:**\n",
    "\n",
    "The number of events and users didn't change that much. In the case of events, 2,828 were lost, which represents 1% of the data, and in the case of users, it was 17, which is equivalent to 0.2% of the total.\n",
    "\n",
    "ES: \n",
    "\n",
    "El número de eventos y usuarios no cambió mucho. En el caso de los eventos, se perdieron 2,828, lo que representa el 1% de los datos, y en el caso de los usuarios, fueron 17, lo que equivale al 0.2% del total."
   ]
  },
  {
   "cell_type": "code",
   "execution_count": 49,
   "metadata": {},
   "outputs": [
    {
     "data": {
      "text/html": [
       "<div>\n",
       "<style scoped>\n",
       "    .dataframe tbody tr th:only-of-type {\n",
       "        vertical-align: middle;\n",
       "    }\n",
       "\n",
       "    .dataframe tbody tr th {\n",
       "        vertical-align: top;\n",
       "    }\n",
       "\n",
       "    .dataframe thead th {\n",
       "        text-align: right;\n",
       "    }\n",
       "</style>\n",
       "<table border=\"1\" class=\"dataframe\">\n",
       "  <thead>\n",
       "    <tr style=\"text-align: right;\">\n",
       "      <th></th>\n",
       "      <th>EventName</th>\n",
       "      <th>EventCount</th>\n",
       "      <th>UniqueUsers</th>\n",
       "      <th>Frequency</th>\n",
       "    </tr>\n",
       "  </thead>\n",
       "  <tbody>\n",
       "    <tr>\n",
       "      <th>1</th>\n",
       "      <td>MainScreenAppear</td>\n",
       "      <td>117431</td>\n",
       "      <td>7419</td>\n",
       "      <td>15.828414</td>\n",
       "    </tr>\n",
       "    <tr>\n",
       "      <th>0</th>\n",
       "      <td>CartScreenAppear</td>\n",
       "      <td>42365</td>\n",
       "      <td>3734</td>\n",
       "      <td>11.345742</td>\n",
       "    </tr>\n",
       "    <tr>\n",
       "      <th>2</th>\n",
       "      <td>OffersScreenAppear</td>\n",
       "      <td>46350</td>\n",
       "      <td>4593</td>\n",
       "      <td>10.091444</td>\n",
       "    </tr>\n",
       "    <tr>\n",
       "      <th>3</th>\n",
       "      <td>PaymentScreenSuccessful</td>\n",
       "      <td>34113</td>\n",
       "      <td>3539</td>\n",
       "      <td>9.639164</td>\n",
       "    </tr>\n",
       "    <tr>\n",
       "      <th>4</th>\n",
       "      <td>Tutorial</td>\n",
       "      <td>1039</td>\n",
       "      <td>840</td>\n",
       "      <td>1.236905</td>\n",
       "    </tr>\n",
       "  </tbody>\n",
       "</table>\n",
       "</div>"
      ],
      "text/plain": [
       "                 EventName  EventCount  UniqueUsers  Frequency\n",
       "1         MainScreenAppear      117431         7419  15.828414\n",
       "0         CartScreenAppear       42365         3734  11.345742\n",
       "2       OffersScreenAppear       46350         4593  10.091444\n",
       "3  PaymentScreenSuccessful       34113         3539   9.639164\n",
       "4                 Tutorial        1039          840   1.236905"
      ]
     },
     "execution_count": 49,
     "metadata": {},
     "output_type": "execute_result"
    }
   ],
   "source": [
    "#Calculating frequency of the events\n",
    "EventFrequency = df_august.groupby('EventName').agg(\n",
    "    EventCount=('UserId', 'count'),\n",
    "    UniqueUsers=('UserId', 'nunique')\n",
    ").reset_index()                                         \n",
    "EventFrequency['Frequency'] = EventFrequency['EventCount'] / EventFrequency['UniqueUsers']\n",
    "EventFrequency.sort_values(by= 'Frequency', ascending=False)"
   ]
  },
  {
   "cell_type": "code",
   "execution_count": 50,
   "metadata": {},
   "outputs": [
    {
     "data": {
      "text/html": [
       "<div>\n",
       "<style scoped>\n",
       "    .dataframe tbody tr th:only-of-type {\n",
       "        vertical-align: middle;\n",
       "    }\n",
       "\n",
       "    .dataframe tbody tr th {\n",
       "        vertical-align: top;\n",
       "    }\n",
       "\n",
       "    .dataframe thead th {\n",
       "        text-align: right;\n",
       "    }\n",
       "</style>\n",
       "<table border=\"1\" class=\"dataframe\">\n",
       "  <thead>\n",
       "    <tr style=\"text-align: right;\">\n",
       "      <th></th>\n",
       "      <th>EventName</th>\n",
       "      <th>UniqueUsers</th>\n",
       "      <th>proportion</th>\n",
       "    </tr>\n",
       "  </thead>\n",
       "  <tbody>\n",
       "    <tr>\n",
       "      <th>1</th>\n",
       "      <td>MainScreenAppear</td>\n",
       "      <td>7419</td>\n",
       "      <td>0.984736</td>\n",
       "    </tr>\n",
       "    <tr>\n",
       "      <th>2</th>\n",
       "      <td>OffersScreenAppear</td>\n",
       "      <td>4593</td>\n",
       "      <td>0.609636</td>\n",
       "    </tr>\n",
       "    <tr>\n",
       "      <th>0</th>\n",
       "      <td>CartScreenAppear</td>\n",
       "      <td>3734</td>\n",
       "      <td>0.495620</td>\n",
       "    </tr>\n",
       "    <tr>\n",
       "      <th>3</th>\n",
       "      <td>PaymentScreenSuccessful</td>\n",
       "      <td>3539</td>\n",
       "      <td>0.469737</td>\n",
       "    </tr>\n",
       "    <tr>\n",
       "      <th>4</th>\n",
       "      <td>Tutorial</td>\n",
       "      <td>840</td>\n",
       "      <td>0.111495</td>\n",
       "    </tr>\n",
       "  </tbody>\n",
       "</table>\n",
       "</div>"
      ],
      "text/plain": [
       "                 EventName  UniqueUsers  proportion\n",
       "1         MainScreenAppear         7419    0.984736\n",
       "2       OffersScreenAppear         4593    0.609636\n",
       "0         CartScreenAppear         3734    0.495620\n",
       "3  PaymentScreenSuccessful         3539    0.469737\n",
       "4                 Tutorial          840    0.111495"
      ]
     },
     "execution_count": 50,
     "metadata": {},
     "output_type": "execute_result"
    }
   ],
   "source": [
    "#Calculating the proportion of users who engaged with each event at least once\n",
    "UserProportion = df_august.groupby('EventName').agg(UniqueUsers=('UserId', 'nunique')).reset_index()\n",
    "UserProportion['proportion'] = UserProportion['UniqueUsers']/7534\n",
    "UserProportion.sort_values(by= 'UniqueUsers', ascending = False)"
   ]
  },
  {
   "cell_type": "code",
   "execution_count": 51,
   "metadata": {},
   "outputs": [
    {
     "data": {
      "text/html": [
       "<div>\n",
       "<style scoped>\n",
       "    .dataframe tbody tr th:only-of-type {\n",
       "        vertical-align: middle;\n",
       "    }\n",
       "\n",
       "    .dataframe tbody tr th {\n",
       "        vertical-align: top;\n",
       "    }\n",
       "\n",
       "    .dataframe thead th {\n",
       "        text-align: right;\n",
       "    }\n",
       "</style>\n",
       "<table border=\"1\" class=\"dataframe\">\n",
       "  <thead>\n",
       "    <tr style=\"text-align: right;\">\n",
       "      <th></th>\n",
       "      <th>EventName</th>\n",
       "      <th>UniqueUsers</th>\n",
       "      <th>proportion</th>\n",
       "      <th>ConversionRate</th>\n",
       "    </tr>\n",
       "  </thead>\n",
       "  <tbody>\n",
       "    <tr>\n",
       "      <th>0</th>\n",
       "      <td>CartScreenAppear</td>\n",
       "      <td>3734</td>\n",
       "      <td>0.495620</td>\n",
       "      <td>1.000000</td>\n",
       "    </tr>\n",
       "    <tr>\n",
       "      <th>1</th>\n",
       "      <td>MainScreenAppear</td>\n",
       "      <td>7419</td>\n",
       "      <td>0.984736</td>\n",
       "      <td>1.986877</td>\n",
       "    </tr>\n",
       "    <tr>\n",
       "      <th>2</th>\n",
       "      <td>OffersScreenAppear</td>\n",
       "      <td>4593</td>\n",
       "      <td>0.609636</td>\n",
       "      <td>0.619086</td>\n",
       "    </tr>\n",
       "    <tr>\n",
       "      <th>3</th>\n",
       "      <td>PaymentScreenSuccessful</td>\n",
       "      <td>3539</td>\n",
       "      <td>0.469737</td>\n",
       "      <td>0.770520</td>\n",
       "    </tr>\n",
       "    <tr>\n",
       "      <th>4</th>\n",
       "      <td>Tutorial</td>\n",
       "      <td>840</td>\n",
       "      <td>0.111495</td>\n",
       "      <td>0.237355</td>\n",
       "    </tr>\n",
       "  </tbody>\n",
       "</table>\n",
       "</div>"
      ],
      "text/plain": [
       "                 EventName  UniqueUsers  proportion  ConversionRate\n",
       "0         CartScreenAppear         3734    0.495620        1.000000\n",
       "1         MainScreenAppear         7419    0.984736        1.986877\n",
       "2       OffersScreenAppear         4593    0.609636        0.619086\n",
       "3  PaymentScreenSuccessful         3539    0.469737        0.770520\n",
       "4                 Tutorial          840    0.111495        0.237355"
      ]
     },
     "execution_count": 51,
     "metadata": {},
     "output_type": "execute_result"
    }
   ],
   "source": [
    "#Funnel of events\n",
    "UserProportion['ConversionRate'] = UserProportion['UniqueUsers']/ UserProportion['UniqueUsers'].shift(1)\n",
    "UserProportion['ConversionRate'] = UserProportion['ConversionRate'].fillna(1)\n",
    "UserProportion"
   ]
  },
  {
   "cell_type": "code",
   "execution_count": 52,
   "metadata": {},
   "outputs": [
    {
     "name": "stdout",
     "output_type": "stream",
     "text": [
      "The percentage of users who complete the entire journey is: 22.50%\n"
     ]
    }
   ],
   "source": [
    "#Percentage of users that finish all the process from the first event to the payment\n",
    "overall_proportion = UserProportion['ConversionRate'].prod()\n",
    "overall_percentage = overall_proportion * 100\n",
    "print(f\"The percentage of users who complete the entire journey is: {overall_percentage:.2f}%\")"
   ]
  },
  {
   "cell_type": "markdown",
   "metadata": {},
   "source": [
    "**Comments:**\n",
    "\n",
    "* In August, an average of almost 16 users opened the main screen. Around 11 users opened the cart screen. While we can't determine the exact number, we can assume that many of them probably added items to the cart. The third most common event was opening the offers screen, done by 10 users, and finally, 9 users opened the payment screen. Only approximately one user watched the tutorial.\n",
    "\n",
    "* Regarding the proportion of users per event, we found that 98% of users open the main screen, which is a necessary step. However, the proportion then decreases to 60% of users who go to the offers screen, 49% who add items to the cart, and finally, around 46% who complete the payment. One notable observation is that a very small proportion of users, around 11%, watch the tutorial. \n",
    "\n",
    "* The sequence of events should be MainScreenAppear, Tutorial, OffersScreenAppear, CartScreenAppear, and PaymentScreenSuccessful. I think that all these events are part of the same sequence because they guide users toward purchasing items from the store. Thus, we are probably discussing the typical steps users follow to complete a purchase.\n",
    "\n",
    "* Opening the cart screen was the first event calculated, hence the conversion rate is 1. The event with the highest conversion rate (1.98) is opening the main screen, making it the most common event. Next is the cart screen, followed by the payment screen with a conversion rate of 0.77, and then the offers screen with 0.61. It means that the order of user engagement is MainScreen (1.98), CartScreen (1.00), PaymentScreenSuccessful (0.77), OffersScreen (0.61), and finally, Tutorial (0.23).\n",
    "\n",
    "* The tutorial is the event that the fewest users have completed or watched, and we lose a significant number of users at that stage.\n",
    "\n",
    "The proportions of events are logical, as opening the main screen is the first common action for users. Regarding the proportion of users moving from one step to another, it might seem illogical that the cart screen is opened more than the offer screen. However, users may frequently open the cart to track the total cost of their items, making the process between the offer screen and the cart screen somewhat parallel. Additionally, some users may not complete the purchase immediately but add items to the cart. If the store sends reminder emails prompting users to finish their purchases, it makes sense that the cart screen and payment screen have higher rates than the offer screen because the reminder email likely directs users straight to the cart section of the website, avoiding the need to repeat all the previous steps. \n",
    "\n",
    "ES: \n",
    "\n",
    "* En agosto, un promedio de casi 16 usuarios abrieron la pantalla principal. Alrededor de 11 usuarios abrieron la pantalla del carrito. Aunque no podemos determinar el número exacto, podemos suponer que muchos de ellos probablemente agregaron artículos al carrito. El tercer evento más común fue abrir la pantalla de ofertas, realizado por 10 usuarios, y finalmente, 9 usuarios abrieron la pantalla de pago. Aproximadamente solo un usuario vio el tutorial.\n",
    "\n",
    "* Encontramos que el 98% de los usuarios abren la pantalla principal, un paso necesario. Sin embargo, la proporción disminuye al 60% de los usuarios que van a la pantalla de ofertas, luego al 49% que agregan artículos al carrito y, finalmente, alrededor del 46% que completan el pago. Cabe destacar que solo alrededor del 11% de los usuarios ven el tutorial.\n",
    "\n",
    "* La secuencia de eventos debería ser MainScreenAppear, Tutorial, OffersScreenAppear, CartScreenAppear y PaymentScreenSuccessful. Se presume que todos estos eventos forman parte de la misma secuencia porque guían a los usuarios hacia la compra de artículos en la tienda. Por lo tanto, estaríamos discutiendo los pasos típicos que los usuarios siguen para completar una compra.\n",
    "\n",
    "* Abrir la pantalla del carrito fue el primer evento calculado, por lo tanto, la tasa de conversión es 1. El evento con la tasa de conversión más alta (1.98) es abrir la pantalla principal, lo que lo convierte en el evento más común. A continuación está la pantalla del carrito, seguida de la pantalla de pago con una tasa de conversión de 0.77, y luego la pantalla de ofertas con 0.61. En otras palabras, el orden de participación de los usuarios es MainScreen (1.98), CartScreen (1.00), PaymentScreenSuccessful (0.77), OffersScreen (0.61) y, finalmente, Tutorial (0.23).\n",
    "\n",
    "* El tutorial es el evento que menos usuarios han completado o visto, y aquí perdemos un significativo numero de usuarios\n",
    "\n",
    " En términos generales la proporción de los eventos es logica, por ejemplo que abrir la pantalla princiapl sea la acción más comun etre los usuarios. Ahora bien, con respecto a la proporción de usuarios que pasan de un evento a otro, podría parecer ilogico que la pantalla del carrito sea abierta con más frecuencia que la de ofertas, sin embargo aquí podrían haber dos posibles opciones: por un lado, que los usuarios abran paralelamente el carrito mientras rastrean la pagina de ofertas para ir monitoreando el total de precios de los productos que van agregando o la segunda opción es que algunos usuarios agreguen productos pero no terminen la compra y que la tienda mande un recordatorio a través del correo electronico, ahora bien, cuando los usuarios abren este correo el sistema los dirige directamente a la secciónd el carrito, por lo que esto explicaría el porque tanto esta ventana como la de pago tendría una mayor proporción de usuarios.\n",
    "\n"
   ]
  },
  {
   "cell_type": "code",
   "execution_count": 53,
   "metadata": {},
   "outputs": [
    {
     "data": {
      "text/plain": [
       "ExpId\n",
       "246    2484\n",
       "247    2513\n",
       "248    2537\n",
       "Name: UserId, dtype: int64"
      ]
     },
     "execution_count": 53,
     "metadata": {},
     "output_type": "execute_result"
    }
   ],
   "source": [
    "#Counting the number of users in each test group\n",
    "\n",
    "users_by_group = df_august.groupby('ExpId')['UserId'].nunique()\n",
    "users_by_group\n"
   ]
  },
  {
   "cell_type": "code",
   "execution_count": 54,
   "metadata": {},
   "outputs": [],
   "source": [
    "#Creating two dataframes with the samples 246, 247 and 248\n",
    "\n",
    "sample_246 = df_august[df_august['ExpId'] == 246]\n",
    "sample_247 = df_august[df_august['ExpId'] == 247]\n",
    "sample_248 = df_august[df_august['ExpId'] == 248]\n",
    "\n",
    "events_per_user_246 = sample_246.groupby('UserId').size()\n",
    "events_per_user_247 = sample_247.groupby('UserId').size()\n",
    "events_per_user_248 = sample_248.groupby('UserId').size()"
   ]
  },
  {
   "cell_type": "code",
   "execution_count": 69,
   "metadata": {},
   "outputs": [
    {
     "name": "stdout",
     "output_type": "stream",
     "text": [
      "Valor p: 0.8738377464685005\n",
      "There isn't a statistically significant difference between both samples\n"
     ]
    }
   ],
   "source": [
    "#Checking if there is a statistically significant difference between samples 246 and 247\n",
    "\n",
    "stat, p_value = mannwhitneyu(events_per_user_246, events_per_user_247)\n",
    "\n",
    "print(f'Valor p: {p_value}')\n",
    "\n",
    "# Interpretación\n",
    "if p_value < 0.05:\n",
    "    print(\"There is a statistically significant difference between both samples.\")\n",
    "else:\n",
    "    print(\"There isn't a statistically significant difference between both samples\")"
   ]
  },
  {
   "cell_type": "markdown",
   "metadata": {},
   "source": [
    "**Comments:**\n",
    "\n",
    "* In this case, the null hypothesis states that the means of both samples are similar or don't have a statistically significant difference, while the alternative hypothesis suggests otherwise. The results of the tests indicates that we don't have sufficient evidence to reject the null hypothesis. Additionally, the parameter 'equal_var' is set to true, indicating our assumption that the samples are taken from populations with similar characteristics that in this case are the users of the store. \n",
    "\n",
    "ES:\n",
    "\n",
    "* En este caso, la hipótesis nula establece que las medias de ambas muestras son similares o no tienen una diferencia estadísticamente significativa, mientras que la hipótesis alternativa sugiere lo contrario. Los resultados de las pruebas indican que no tenemos suficiente evidencia para rechazar la hipótesis nula. Además, el parámetro 'equal_var' está establecido en verdadero, lo que indica nuestra suposición de que las muestras provienen de poblaciones con características similares, en este caso, los usuarios de la tienda."
   ]
  },
  {
   "cell_type": "code",
   "execution_count": 56,
   "metadata": {},
   "outputs": [
    {
     "data": {
      "text/html": [
       "<div>\n",
       "<style scoped>\n",
       "    .dataframe tbody tr th:only-of-type {\n",
       "        vertical-align: middle;\n",
       "    }\n",
       "\n",
       "    .dataframe tbody tr th {\n",
       "        vertical-align: top;\n",
       "    }\n",
       "\n",
       "    .dataframe thead th {\n",
       "        text-align: right;\n",
       "    }\n",
       "</style>\n",
       "<table border=\"1\" class=\"dataframe\">\n",
       "  <thead>\n",
       "    <tr style=\"text-align: right;\">\n",
       "      <th></th>\n",
       "      <th>EventName</th>\n",
       "      <th>EventCount</th>\n",
       "      <th>UniqueUsers</th>\n",
       "      <th>proportion</th>\n",
       "    </tr>\n",
       "  </thead>\n",
       "  <tbody>\n",
       "    <tr>\n",
       "      <th>1</th>\n",
       "      <td>MainScreenAppear</td>\n",
       "      <td>37708</td>\n",
       "      <td>2450</td>\n",
       "      <td>0.986312</td>\n",
       "    </tr>\n",
       "    <tr>\n",
       "      <th>2</th>\n",
       "      <td>OffersScreenAppear</td>\n",
       "      <td>14773</td>\n",
       "      <td>1542</td>\n",
       "      <td>0.620773</td>\n",
       "    </tr>\n",
       "    <tr>\n",
       "      <th>0</th>\n",
       "      <td>CartScreenAppear</td>\n",
       "      <td>14711</td>\n",
       "      <td>1266</td>\n",
       "      <td>0.509662</td>\n",
       "    </tr>\n",
       "    <tr>\n",
       "      <th>3</th>\n",
       "      <td>PaymentScreenSuccessful</td>\n",
       "      <td>11910</td>\n",
       "      <td>1200</td>\n",
       "      <td>0.483092</td>\n",
       "    </tr>\n",
       "    <tr>\n",
       "      <th>4</th>\n",
       "      <td>Tutorial</td>\n",
       "      <td>323</td>\n",
       "      <td>278</td>\n",
       "      <td>0.111916</td>\n",
       "    </tr>\n",
       "  </tbody>\n",
       "</table>\n",
       "</div>"
      ],
      "text/plain": [
       "                 EventName  EventCount  UniqueUsers  proportion\n",
       "1         MainScreenAppear       37708         2450    0.986312\n",
       "2       OffersScreenAppear       14773         1542    0.620773\n",
       "0         CartScreenAppear       14711         1266    0.509662\n",
       "3  PaymentScreenSuccessful       11910         1200    0.483092\n",
       "4                 Tutorial         323          278    0.111916"
      ]
     },
     "execution_count": 56,
     "metadata": {},
     "output_type": "execute_result"
    }
   ],
   "source": [
    "#Calculating the most popular event in each group in the sample 246\n",
    "\n",
    "most_popular_events_246 = sample_246.groupby('EventName').agg(\n",
    "    EventCount=('UserId', 'count'),\n",
    "    UniqueUsers=('UserId', 'nunique')\n",
    ").reset_index() \n",
    "\n",
    "most_popular_events_246['proportion'] = most_popular_events_246['UniqueUsers']/2484\n",
    "most_popular_events_246.sort_values(by= 'EventCount', ascending=False)"
   ]
  },
  {
   "cell_type": "code",
   "execution_count": 57,
   "metadata": {},
   "outputs": [
    {
     "data": {
      "text/html": [
       "<div>\n",
       "<style scoped>\n",
       "    .dataframe tbody tr th:only-of-type {\n",
       "        vertical-align: middle;\n",
       "    }\n",
       "\n",
       "    .dataframe tbody tr th {\n",
       "        vertical-align: top;\n",
       "    }\n",
       "\n",
       "    .dataframe thead th {\n",
       "        text-align: right;\n",
       "    }\n",
       "</style>\n",
       "<table border=\"1\" class=\"dataframe\">\n",
       "  <thead>\n",
       "    <tr style=\"text-align: right;\">\n",
       "      <th></th>\n",
       "      <th>EventName</th>\n",
       "      <th>EventCount</th>\n",
       "      <th>UniqueUsers</th>\n",
       "      <th>proportion</th>\n",
       "    </tr>\n",
       "  </thead>\n",
       "  <tbody>\n",
       "    <tr>\n",
       "      <th>1</th>\n",
       "      <td>MainScreenAppear</td>\n",
       "      <td>39123</td>\n",
       "      <td>2476</td>\n",
       "      <td>0.985277</td>\n",
       "    </tr>\n",
       "    <tr>\n",
       "      <th>2</th>\n",
       "      <td>OffersScreenAppear</td>\n",
       "      <td>15182</td>\n",
       "      <td>1520</td>\n",
       "      <td>0.604855</td>\n",
       "    </tr>\n",
       "    <tr>\n",
       "      <th>0</th>\n",
       "      <td>CartScreenAppear</td>\n",
       "      <td>12456</td>\n",
       "      <td>1238</td>\n",
       "      <td>0.492638</td>\n",
       "    </tr>\n",
       "    <tr>\n",
       "      <th>3</th>\n",
       "      <td>PaymentScreenSuccessful</td>\n",
       "      <td>10043</td>\n",
       "      <td>1158</td>\n",
       "      <td>0.460804</td>\n",
       "    </tr>\n",
       "    <tr>\n",
       "      <th>4</th>\n",
       "      <td>Tutorial</td>\n",
       "      <td>343</td>\n",
       "      <td>283</td>\n",
       "      <td>0.112614</td>\n",
       "    </tr>\n",
       "  </tbody>\n",
       "</table>\n",
       "</div>"
      ],
      "text/plain": [
       "                 EventName  EventCount  UniqueUsers  proportion\n",
       "1         MainScreenAppear       39123         2476    0.985277\n",
       "2       OffersScreenAppear       15182         1520    0.604855\n",
       "0         CartScreenAppear       12456         1238    0.492638\n",
       "3  PaymentScreenSuccessful       10043         1158    0.460804\n",
       "4                 Tutorial         343          283    0.112614"
      ]
     },
     "execution_count": 57,
     "metadata": {},
     "output_type": "execute_result"
    }
   ],
   "source": [
    "#Calculating the most popular event in each group in the sample 247\n",
    "\n",
    "most_popular_events_247 = sample_247.groupby('EventName').agg(\n",
    "    EventCount=('UserId', 'count'),\n",
    "    UniqueUsers=('UserId', 'nunique')\n",
    ").reset_index() \n",
    "\n",
    "most_popular_events_247['proportion'] = most_popular_events_247['UniqueUsers']/2513\n",
    "most_popular_events_247.sort_values(by= 'EventCount', ascending= False)"
   ]
  },
  {
   "cell_type": "code",
   "execution_count": 58,
   "metadata": {},
   "outputs": [
    {
     "data": {
      "text/html": [
       "<div>\n",
       "<style scoped>\n",
       "    .dataframe tbody tr th:only-of-type {\n",
       "        vertical-align: middle;\n",
       "    }\n",
       "\n",
       "    .dataframe tbody tr th {\n",
       "        vertical-align: top;\n",
       "    }\n",
       "\n",
       "    .dataframe thead th {\n",
       "        text-align: right;\n",
       "    }\n",
       "</style>\n",
       "<table border=\"1\" class=\"dataframe\">\n",
       "  <thead>\n",
       "    <tr style=\"text-align: right;\">\n",
       "      <th></th>\n",
       "      <th>EventName</th>\n",
       "      <th>EventCount</th>\n",
       "      <th>UniqueUsers</th>\n",
       "      <th>proportion</th>\n",
       "    </tr>\n",
       "  </thead>\n",
       "  <tbody>\n",
       "    <tr>\n",
       "      <th>1</th>\n",
       "      <td>MainScreenAppear</td>\n",
       "      <td>40600</td>\n",
       "      <td>2493</td>\n",
       "      <td>0.982657</td>\n",
       "    </tr>\n",
       "    <tr>\n",
       "      <th>2</th>\n",
       "      <td>OffersScreenAppear</td>\n",
       "      <td>16395</td>\n",
       "      <td>1531</td>\n",
       "      <td>0.603469</td>\n",
       "    </tr>\n",
       "    <tr>\n",
       "      <th>0</th>\n",
       "      <td>CartScreenAppear</td>\n",
       "      <td>15198</td>\n",
       "      <td>1230</td>\n",
       "      <td>0.484825</td>\n",
       "    </tr>\n",
       "    <tr>\n",
       "      <th>3</th>\n",
       "      <td>PaymentScreenSuccessful</td>\n",
       "      <td>12160</td>\n",
       "      <td>1181</td>\n",
       "      <td>0.465510</td>\n",
       "    </tr>\n",
       "    <tr>\n",
       "      <th>4</th>\n",
       "      <td>Tutorial</td>\n",
       "      <td>373</td>\n",
       "      <td>279</td>\n",
       "      <td>0.109972</td>\n",
       "    </tr>\n",
       "  </tbody>\n",
       "</table>\n",
       "</div>"
      ],
      "text/plain": [
       "                 EventName  EventCount  UniqueUsers  proportion\n",
       "1         MainScreenAppear       40600         2493    0.982657\n",
       "2       OffersScreenAppear       16395         1531    0.603469\n",
       "0         CartScreenAppear       15198         1230    0.484825\n",
       "3  PaymentScreenSuccessful       12160         1181    0.465510\n",
       "4                 Tutorial         373          279    0.109972"
      ]
     },
     "execution_count": 58,
     "metadata": {},
     "output_type": "execute_result"
    }
   ],
   "source": [
    "#Calculating the most popular event in each group in the sample 248\n",
    "\n",
    "most_popular_events_248 = sample_248.groupby('EventName').agg(\n",
    "    EventCount=('UserId', 'count'),\n",
    "    UniqueUsers=('UserId', 'nunique')\n",
    ").reset_index() \n",
    "\n",
    "most_popular_events_248['proportion'] = most_popular_events_248['UniqueUsers']/2537\n",
    "most_popular_events_248.sort_values(by='EventCount', ascending=False)"
   ]
  },
  {
   "cell_type": "markdown",
   "metadata": {},
   "source": [
    "**Comments:**\n",
    "\n",
    "* Within sample_246, the main screen appearance is the most popular event, followed by the offers screen, the cart screen, the payment screen, and finally the tutorial. Interestingly, the order of events and the proportion based on the number of unique users who performed each event follows exactly the same sequence, indicating that this group maintains a logical progression. Similar observations hold true for sample 247 and 248, where the events occur in the same sequential order. \n",
    "\n",
    "ES: \n",
    "\n",
    "* Dentro de la muestra 246, la pantalla principal es el evento más popular, seguido por la pantalla de ofertas, la pantalla de carrito, la pantalla de pago y finalmente el tutorial. Curiosamente, el orden de los eventos y la proporción basada en el número de usuarios únicos que realizaron cada evento sigue exactamente la misma secuencia, lo que indica que este grupo mantiene una progresión lógica. Esto mismo aplica para la muestra 247 y  248, donde los eventos ocurren en el mismo orden secuencial."
   ]
  },
  {
   "cell_type": "code",
   "execution_count": 73,
   "metadata": {},
   "outputs": [
    {
     "name": "stdout",
     "output_type": "stream",
     "text": [
      "The null hypothesis wasn't rejected because there isn't a significantly difference for 'MainScreenAppear': p-value = 0.7571\n",
      "The null hypothesis was rejected because there is a significantly difference for 'OffersScreenAppear': p-value = 0.2481\n",
      "The null hypothesis was rejected because there is a significantly difference for 'CartScreenAppear': p-value = 0.2288\n",
      "The null hypothesis was rejected because there is a significantly difference for 'PaymentScreenSuccessful': p-value = 0.1146\n",
      "The null hypothesis wasn't rejected because there isn't a significantly difference for 'Tutorial': p-value = 0.9377\n"
     ]
    }
   ],
   "source": [
    "#Defining a function to calculate if there is a statistically significant difference between \n",
    "#the proportions of samples 246, 247 and 248\n",
    "\n",
    "def compare_proportions(events, alpha):\n",
    "    results = {}\n",
    "\n",
    "    for event, (successes, trials) in events.items():\n",
    "        # It calculates the success proportion in the first group\n",
    "        p1 = successes[0] / trials[0]\n",
    "        \n",
    "        # It calculates the success proportion in the second group\n",
    "        p2 = successes[1] / trials[1]\n",
    "        \n",
    "        # Calculating the success proportion in the combined dataset\n",
    "        p_combined = (successes[0] + successes[1]) / (trials[0] + trials[1])\n",
    "        \n",
    "        # Calculating the difference between the proportions of the datasets\n",
    "        difference = p1 - p2\n",
    "        \n",
    "        # Calculating Z statistic \n",
    "        z_value = difference / np.sqrt(p_combined * (1 - p_combined) * (1/trials[0] + 1/trials[1]))\n",
    "        \n",
    "        # Standard distribution is established (media 0, standard deviation 1)\n",
    "        distr = stats.norm(0, 1) \n",
    "        \n",
    "        # Calculating the p value\n",
    "        p_value = (1 - distr.cdf(abs(z_value))) * 2\n",
    "        \n",
    "        # It determines if we can reject the null hypothesis or not\n",
    "        if p_value < alpha:\n",
    "            result_message = f\"The null hypothesis was rejected because there is a significantly difference for '{event}'\"\n",
    "        else:\n",
    "            result_message = f\"The null hypothesis wasn't rejected because there isn't a significantly difference for '{event}'\"\n",
    "        \n",
    "        # it Saves the result\n",
    "        results[event] = (p_value, result_message)\n",
    "    \n",
    "    return results\n",
    "\n",
    "# Defining the data of the events\n",
    "events_246_247 = {\n",
    "    'MainScreenAppear': (np.array([2450, 2476]), np.array([2484, 2513])),\n",
    "    'OffersScreenAppear': (np.array([1542, 1520]), np.array([2484, 2513])),  \n",
    "    'CartScreenAppear': (np.array([1266, 1238]), np.array([2484, 2513])),    \n",
    "    'PaymentScreenSuccessful': (np.array([1200, 1158]), np.array([2484, 2513])),  \n",
    "    'Tutorial': (np.array([278, 283]), np.array([2484, 2513]))  \n",
    "}\n",
    "\n",
    "events_246_248 = {\n",
    "    'MainScreenAppear': (np.array([2450, 2493]), np.array([2484, 2537])),\n",
    "    'OffersScreenAppear': (np.array([1542, 1531]), np.array([2484, 2537])),  \n",
    "    'CartScreenAppear': (np.array([1266, 1230]), np.array([2484, 2537])),    \n",
    "    'PaymentScreenSuccessful': (np.array([1200, 1181]), np.array([2484, 2537])),  \n",
    "    'Tutorial': (np.array([278, 279]), np.array([2484, 2537]))  \n",
    "}\n",
    "\n",
    "events_247_248 = {\n",
    "    'MainScreenAppear': (np.array([2476, 2493]), np.array([2513, 2537])),\n",
    "    'OffersScreenAppear': (np.array([1520, 1531]), np.array([2513, 2537])),  \n",
    "    'CartScreenAppear': (np.array([1238, 1230]), np.array([2513, 2537])),    \n",
    "    'PaymentScreenSuccessful': (np.array([1158, 1181]), np.array([2513, 2537])),  \n",
    "    'Tutorial': (np.array([283, 279]), np.array([2513, 2537]))  \n",
    "}\n",
    "\n",
    "# It calls the function\n",
    "results = compare_proportions(events_246_247, 0.45)\n",
    "\n",
    "# It shows the results\n",
    "for event, (p_value, result_message) in results.items():\n",
    "    print(f\"{result_message}: p-value = {p_value:.4f}\")\n"
   ]
  },
  {
   "cell_type": "code",
   "execution_count": 60,
   "metadata": {},
   "outputs": [
    {
     "name": "stdout",
     "output_type": "stream",
     "text": [
      "The null hypothesis was rejected because there is a significantly difference for 'MainScreenAppear': p-value = 0.2950\n",
      "The null hypothesis was rejected because there is a significantly difference for 'OffersScreenAppear': p-value = 0.2084\n",
      "The null hypothesis was rejected because there is a significantly difference for 'CartScreenAppear': p-value = 0.0784\n",
      "The null hypothesis was rejected because there is a significantly difference for 'PaymentScreenSuccessful': p-value = 0.2123\n",
      "The null hypothesis wasn't rejected because there isn't a significantly difference for 'Tutorial': p-value = 0.8264\n"
     ]
    }
   ],
   "source": [
    "# It calls the function for the comparison of samples 246 and 248\n",
    "results = compare_proportions(events_246_248, 0.46)\n",
    "\n",
    "# It shows the results\n",
    "for event, (p_value, result_message) in results.items():\n",
    "    print(f\"{result_message}: p-value = {p_value:.4f}\")"
   ]
  },
  {
   "cell_type": "code",
   "execution_count": 61,
   "metadata": {},
   "outputs": [
    {
     "name": "stdout",
     "output_type": "stream",
     "text": [
      "The null hypothesis wasn't rejected because there isn't a significantly difference for 'MainScreenAppear': p-value = 0.4587\n",
      "The null hypothesis wasn't rejected because there isn't a significantly difference for 'OffersScreenAppear': p-value = 0.9198\n",
      "The null hypothesis wasn't rejected because there isn't a significantly difference for 'CartScreenAppear': p-value = 0.5786\n",
      "The null hypothesis wasn't rejected because there isn't a significantly difference for 'PaymentScreenSuccessful': p-value = 0.7373\n",
      "The null hypothesis wasn't rejected because there isn't a significantly difference for 'Tutorial': p-value = 0.7653\n"
     ]
    }
   ],
   "source": [
    "# It calls the function for the comparison of samples 247 and 248\n",
    "results = compare_proportions(events_247_248, 0.14)\n",
    "\n",
    "# It shows the results\n",
    "for event, (p_value, result_message) in results.items():\n",
    "    print(f\"{result_message}: p-value = {p_value:.4f}\")"
   ]
  },
  {
   "cell_type": "code",
   "execution_count": 62,
   "metadata": {},
   "outputs": [
    {
     "name": "stdout",
     "output_type": "stream",
     "text": [
      "p value to compare the samples 246 and 247:  0.4588652825514783\n",
      "p value to compare the samples 247 and 248:  0.14233958932160984\n",
      "p value to compare the samples 246 and 248:  0.4673664745110334\n",
      "Null hypothesis isn't rejected for the samples 246_247\n",
      "Null hypothesis is rejected for the samples 247_248\n",
      "Null hypothesis isn't rejected for the samples 246_248\n"
     ]
    }
   ],
   "source": [
    "results_246_247 = stats.ttest_ind(\n",
    "    events_per_user_246, \n",
    "    events_per_user_247)\n",
    "\n",
    "results_247_248 = stats.ttest_ind(\n",
    "    events_per_user_247, \n",
    "    events_per_user_248)\n",
    "\n",
    "results_246_248 = stats.ttest_ind(\n",
    "    events_per_user_246, \n",
    "    events_per_user_248)\n",
    "\n",
    "bonferroni_alpha = alpha / 3\n",
    "\n",
    "print('p value to compare the samples 246 and 247: ', results_246_247.pvalue)\n",
    "print('p value to compare the samples 247 and 248: ', results_247_248.pvalue)\n",
    "print('p value to compare the samples 246 and 248: ', results_246_248.pvalue)\n",
    "\n",
    "if (results_246_247.pvalue < bonferroni_alpha):\n",
    "    print(\"Null hypothesis is rejected for the samples 246_247\")\n",
    "else:\n",
    "    print(\"Null hypothesis isn't rejected for the samples 246_247\")\n",
    "\n",
    "if (results_247_248.pvalue < bonferroni_alpha):\n",
    "    print(\"Null hypothesis is rejected for the samples 247_248\")\n",
    "else:\n",
    "    print(\"Null hypothesis isn't rejected for the samples 247_248\")\n",
    "\n",
    "if (results_246_248.pvalue < bonferroni_alpha):\n",
    "    print(\"Null hypothesis is rejected for the samples 246_248\")\n",
    "else:\n",
    "    print(\"Null hypothesis isn't rejected for the samples 246_248\")"
   ]
  },
  {
   "cell_type": "markdown",
   "metadata": {},
   "source": [
    "**Comments:**\n",
    "\n",
    "* Before applying the Bonferroni test, the significance level was set at 0.05. The results of the hypothesis tests regarding the proportion of users per event indicated that it wasn't possible to reject the null hypothesis. However, after conducting the test, the significance level was adjusted individually for each case.\n",
    "\n",
    "We can conclude that between samples 246 and 247, there is a significant difference in the proportion of users per event in most cases, except for MainScreenAppear and Tutorial. Similarly, between samples 246 and 248, the null hypothesis was rejected in most cases except for Tutorial. However, between samples 247 and 248, no null hypothesis was rejected, indicating no significant difference between these samples\n",
    "\n",
    "ES: \n",
    "\n",
    "Antes de aplicar la prueba de Bonferroni, el nivel de significancia se estableció en 0.05. Los resultados de las pruebas de hipótesis sobre la proporción de usuarios por evento indicaron que no fue posible rechazar la hipótesis nula. Sin embargo, después de realizar la prueba, el nivel de significancia se ajustó individualmente para cada caso.\n",
    "\n",
    "Podemos concluir que entre las muestras 246 y 247, hay una diferencia significativa en la proporción de usuarios por evento en la mayoría de los casos, excepto en MainScreenAppear y Tutorial. De manera similar, entre las muestras 246 y 248, se rechazó la hipótesis nula en la mayoría de los casos, excepto en Tutorial. Sin embargo, entre las muestras 247 y 248, no se rechazó ninguna hipótesis nula, lo que indica que no hay una diferencia significativa entre estas muestras."
   ]
  },
  {
   "cell_type": "markdown",
   "metadata": {},
   "source": [
    "### ** 4. General Conclusions:**\n",
    "\n",
    "After conducting the tests, we concluded that it is premature to determine if the new fonts are well-accepted. Initially, when comparing the overall means of the control groups, we couldn't identify a statistically significant difference. However, when analyzed by event, we found significant differences in most cases. This discrepancy suggests the need to check for potential issues in the data collection process or other complications.\n",
    "\n",
    "It is important to highlight that there were no significant differences between the second control group (sample 247) and the third group (sample 248), which isn't a control group.\n",
    "\n",
    "Key points to note:\n",
    "\n",
    "* The control groups have specific conditions for control tests. For instance, the difference between the population and key metrics isn't greater than 1%. However, we lack detailed information about the application process, such as whether all users stayed until the end, which could affect the results.\n",
    "\n",
    "* We applied the Bonferroni test to avoid mistakes in mean comparisons, resulting in different significance levels for each comparison.\n",
    "\n",
    "* Lastly, we excluded the data from users in July due to its lack of information, but this did not result in a significant data loss.\n",
    "\n",
    "ES:\n",
    "\n",
    "Después de realizar las pruebas, concluimos que es prematuro determinar si las nuevas fuentes son bien aceptadas. Inicialmente, al comparar las medias generales de los grupos de control, no pudimos identificar una diferencia estadísticamente significativa. Sin embargo, al analizar por evento, encontramos diferencias significativas en la mayoría de los casos. Esta discrepancia sugiere la necesidad de verificar posibles problemas en el proceso de recopilación de datos u otras complicaciones.\n",
    "\n",
    "Es importante destacar que no hubo diferencias significativas entre el segundo grupo de control (muestra 247) y el tercer grupo (muestra 248), que no es un grupo de control.\n",
    "\n",
    "Puntos clave a tener en cuenta:\n",
    "\n",
    "* Los grupos de control tienen condiciones específicas para las pruebas de control. Por ejemplo, la diferencia entre la población y las métricas clave no supera el 1%. Sin embargo, carecemos de información detallada sobre el proceso de aplicación, por ejemplo si todos los usuarios permanecieron hasta el final, lo que podría afectar los resultados.\n",
    "\n",
    "* Aplicamos la prueba de Bonferroni para evitar errores en las comparaciones de medias, lo que resultó en diferentes niveles de significancia para cada comparación.\n",
    "\n",
    "* Por último, excluimos los datos de usuarios de julio debido a que no había mucha información, pero esto no resultó en una pérdida significativa de datos."
   ]
  }
 ],
 "metadata": {
  "ExecuteTimeLog": [
   {
    "duration": 5556,
    "start_time": "2024-06-15T01:19:10.286Z"
   },
   {
    "duration": 277,
    "start_time": "2024-06-15T01:19:15.852Z"
   },
   {
    "duration": 36,
    "start_time": "2024-06-15T01:19:16.140Z"
   },
   {
    "duration": 86,
    "start_time": "2024-06-15T01:19:16.180Z"
   },
   {
    "duration": 21,
    "start_time": "2024-06-15T01:19:16.272Z"
   },
   {
    "duration": 8,
    "start_time": "2024-06-15T01:19:16.296Z"
   },
   {
    "duration": 15,
    "start_time": "2024-06-15T01:19:16.333Z"
   },
   {
    "duration": 1876,
    "start_time": "2024-06-15T01:19:16.352Z"
   },
   {
    "duration": 35,
    "start_time": "2024-06-15T01:19:18.237Z"
   },
   {
    "duration": 81,
    "start_time": "2024-06-15T01:19:18.276Z"
   },
   {
    "duration": 90,
    "start_time": "2024-06-15T01:19:18.361Z"
   },
   {
    "duration": 34,
    "start_time": "2024-06-15T01:19:18.454Z"
   },
   {
    "duration": 8,
    "start_time": "2024-06-15T01:19:18.492Z"
   },
   {
    "duration": 1557,
    "start_time": "2024-06-15T01:19:18.536Z"
   },
   {
    "duration": 44,
    "start_time": "2024-06-15T01:19:20.096Z"
   },
   {
    "duration": 19,
    "start_time": "2024-06-15T01:19:20.144Z"
   },
   {
    "duration": 28,
    "start_time": "2024-06-15T01:19:20.167Z"
   },
   {
    "duration": 135,
    "start_time": "2024-06-15T01:19:20.198Z"
   },
   {
    "duration": 108,
    "start_time": "2024-06-15T01:19:20.337Z"
   },
   {
    "duration": 19,
    "start_time": "2024-06-15T01:19:20.449Z"
   },
   {
    "duration": 8,
    "start_time": "2024-06-15T01:19:20.472Z"
   },
   {
    "duration": 78,
    "start_time": "2024-06-15T01:19:20.485Z"
   },
   {
    "duration": 32,
    "start_time": "2024-06-15T01:19:20.568Z"
   },
   {
    "duration": 30,
    "start_time": "2024-06-15T01:19:20.602Z"
   },
   {
    "duration": 9,
    "start_time": "2024-06-15T01:19:36.230Z"
   },
   {
    "duration": 4810,
    "start_time": "2024-06-17T16:36:33.784Z"
   },
   {
    "duration": 247,
    "start_time": "2024-06-17T16:36:38.598Z"
   },
   {
    "duration": 23,
    "start_time": "2024-06-17T16:36:38.848Z"
   },
   {
    "duration": 77,
    "start_time": "2024-06-17T16:36:38.876Z"
   },
   {
    "duration": 17,
    "start_time": "2024-06-17T16:36:38.956Z"
   },
   {
    "duration": 35,
    "start_time": "2024-06-17T16:36:38.975Z"
   },
   {
    "duration": 13,
    "start_time": "2024-06-17T16:36:39.014Z"
   },
   {
    "duration": 1762,
    "start_time": "2024-06-17T16:36:39.029Z"
   },
   {
    "duration": 34,
    "start_time": "2024-06-17T16:36:40.794Z"
   },
   {
    "duration": 76,
    "start_time": "2024-06-17T16:36:40.834Z"
   },
   {
    "duration": 68,
    "start_time": "2024-06-17T16:36:40.912Z"
   },
   {
    "duration": 43,
    "start_time": "2024-06-17T16:36:40.983Z"
   },
   {
    "duration": 8,
    "start_time": "2024-06-17T16:36:41.028Z"
   },
   {
    "duration": 1377,
    "start_time": "2024-06-17T16:36:41.039Z"
   },
   {
    "duration": 31,
    "start_time": "2024-06-17T16:36:42.420Z"
   },
   {
    "duration": 14,
    "start_time": "2024-06-17T16:36:42.454Z"
   },
   {
    "duration": 51,
    "start_time": "2024-06-17T16:36:42.471Z"
   },
   {
    "duration": 105,
    "start_time": "2024-06-17T16:36:42.525Z"
   },
   {
    "duration": 91,
    "start_time": "2024-06-17T16:36:42.633Z"
   },
   {
    "duration": 14,
    "start_time": "2024-06-17T16:36:42.727Z"
   },
   {
    "duration": 5,
    "start_time": "2024-06-17T16:36:42.744Z"
   },
   {
    "duration": 65,
    "start_time": "2024-06-17T16:36:42.752Z"
   },
   {
    "duration": 29,
    "start_time": "2024-06-17T16:36:42.820Z"
   },
   {
    "duration": 4,
    "start_time": "2024-06-17T16:36:42.852Z"
   },
   {
    "duration": 69,
    "start_time": "2024-06-17T16:36:42.859Z"
   },
   {
    "duration": 40,
    "start_time": "2024-06-17T16:36:42.931Z"
   },
   {
    "duration": 67,
    "start_time": "2024-06-17T16:36:42.974Z"
   },
   {
    "duration": 23,
    "start_time": "2024-06-17T16:36:43.047Z"
   },
   {
    "duration": 34,
    "start_time": "2024-06-17T16:36:43.073Z"
   },
   {
    "duration": 13,
    "start_time": "2024-06-17T16:36:43.110Z"
   },
   {
    "duration": 430,
    "start_time": "2024-06-17T16:36:43.126Z"
   },
   {
    "duration": 5,
    "start_time": "2024-06-17T17:04:46.143Z"
   },
   {
    "duration": 190,
    "start_time": "2024-06-17T17:04:46.152Z"
   },
   {
    "duration": 24,
    "start_time": "2024-06-17T17:04:46.344Z"
   },
   {
    "duration": 71,
    "start_time": "2024-06-17T17:04:46.371Z"
   },
   {
    "duration": 17,
    "start_time": "2024-06-17T17:04:46.447Z"
   },
   {
    "duration": 7,
    "start_time": "2024-06-17T17:04:46.466Z"
   },
   {
    "duration": 39,
    "start_time": "2024-06-17T17:04:46.476Z"
   },
   {
    "duration": 1797,
    "start_time": "2024-06-17T17:04:46.517Z"
   },
   {
    "duration": 26,
    "start_time": "2024-06-17T17:04:48.316Z"
   },
   {
    "duration": 83,
    "start_time": "2024-06-17T17:04:48.344Z"
   },
   {
    "duration": 77,
    "start_time": "2024-06-17T17:04:48.429Z"
   },
   {
    "duration": 24,
    "start_time": "2024-06-17T17:04:48.509Z"
   },
   {
    "duration": 7,
    "start_time": "2024-06-17T17:04:48.536Z"
   },
   {
    "duration": 1421,
    "start_time": "2024-06-17T17:04:48.549Z"
   },
   {
    "duration": 41,
    "start_time": "2024-06-17T17:04:49.973Z"
   },
   {
    "duration": 13,
    "start_time": "2024-06-17T17:04:50.017Z"
   },
   {
    "duration": 24,
    "start_time": "2024-06-17T17:04:50.033Z"
   },
   {
    "duration": 121,
    "start_time": "2024-06-17T17:04:50.060Z"
   },
   {
    "duration": 84,
    "start_time": "2024-06-17T17:04:50.185Z"
   },
   {
    "duration": 14,
    "start_time": "2024-06-17T17:04:50.272Z"
   },
   {
    "duration": 21,
    "start_time": "2024-06-17T17:04:50.289Z"
   },
   {
    "duration": 39,
    "start_time": "2024-06-17T17:04:50.314Z"
   },
   {
    "duration": 61,
    "start_time": "2024-06-17T17:04:50.356Z"
   },
   {
    "duration": 5,
    "start_time": "2024-06-17T17:04:50.420Z"
   },
   {
    "duration": 41,
    "start_time": "2024-06-17T17:04:50.428Z"
   },
   {
    "duration": 60,
    "start_time": "2024-06-17T17:04:50.473Z"
   },
   {
    "duration": 52,
    "start_time": "2024-06-17T17:04:50.535Z"
   },
   {
    "duration": 37,
    "start_time": "2024-06-17T17:04:50.590Z"
   },
   {
    "duration": 12,
    "start_time": "2024-06-17T17:04:50.629Z"
   },
   {
    "duration": 11,
    "start_time": "2024-06-17T17:04:50.644Z"
   },
   {
    "duration": 52,
    "start_time": "2024-06-17T17:04:50.658Z"
   },
   {
    "duration": 4,
    "start_time": "2024-06-17T17:37:43.906Z"
   },
   {
    "duration": 19,
    "start_time": "2024-06-17T17:39:09.746Z"
   },
   {
    "duration": 9,
    "start_time": "2024-06-17T17:39:42.550Z"
   },
   {
    "duration": 11,
    "start_time": "2024-06-17T17:40:32.356Z"
   },
   {
    "duration": 12,
    "start_time": "2024-06-17T17:42:57.333Z"
   },
   {
    "duration": 9,
    "start_time": "2024-06-17T17:43:12.575Z"
   },
   {
    "duration": 11,
    "start_time": "2024-06-17T17:47:05.311Z"
   },
   {
    "duration": 19,
    "start_time": "2024-06-17T18:02:02.551Z"
   },
   {
    "duration": 9,
    "start_time": "2024-06-17T18:04:20.870Z"
   },
   {
    "duration": 10,
    "start_time": "2024-06-17T18:05:19.186Z"
   },
   {
    "duration": 24,
    "start_time": "2024-06-17T18:10:33.981Z"
   }
  ],
  "kernelspec": {
   "display_name": "Python 3 (ipykernel)",
   "language": "python",
   "name": "python3"
  },
  "language_info": {
   "codemirror_mode": {
    "name": "ipython",
    "version": 3
   },
   "file_extension": ".py",
   "mimetype": "text/x-python",
   "name": "python",
   "nbconvert_exporter": "python",
   "pygments_lexer": "ipython3",
   "version": "3.8.19"
  },
  "toc": {
   "base_numbering": 1,
   "nav_menu": {},
   "number_sections": true,
   "sideBar": true,
   "skip_h1_title": true,
   "title_cell": "Table of Contents",
   "title_sidebar": "Contents",
   "toc_cell": false,
   "toc_position": {},
   "toc_section_display": true,
   "toc_window_display": false
  }
 },
 "nbformat": 4,
 "nbformat_minor": 2
}
